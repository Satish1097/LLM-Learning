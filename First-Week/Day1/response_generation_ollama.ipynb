{
 "cells": [
  {
   "cell_type": "markdown",
   "metadata": {},
   "source": [
    "Generate Response with ollama"
   ]
  },
  {
   "cell_type": "code",
   "execution_count": 1,
   "metadata": {},
   "outputs": [],
   "source": [
    "from IPython.display import Markdown, display,update_display\n",
    "import ollama"
   ]
  },
  {
   "cell_type": "code",
   "execution_count": 2,
   "metadata": {},
   "outputs": [],
   "source": [
    "MODEL_LLAMA='llama3.2'"
   ]
  },
  {
   "cell_type": "code",
   "execution_count": 3,
   "metadata": {},
   "outputs": [],
   "source": [
    "system_prompt=\"New Idea to learn python\"\n",
    "user_prompt=\"List out the platfrom where we can learn and practice python code.\""
   ]
  },
  {
   "cell_type": "code",
   "execution_count": 4,
   "metadata": {},
   "outputs": [],
   "source": [
    "messages=[\n",
    "    {\"role\":\"system\",\"content\":system_prompt},\n",
    "    {\"role\":\"user\",\"content\":user_prompt}\n",
    "]"
   ]
  },
  {
   "cell_type": "code",
   "execution_count": 6,
   "metadata": {},
   "outputs": [
    {
     "name": "stdout",
     "output_type": "stream",
     "text": [
      "Here are some popular platforms where you can learn and practice Python:\n",
      "\n",
      "**Online Learning Platforms**\n",
      "\n",
      "1. **Codecademy**: Codecademy offers an interactive Python course with exercises and projects.\n",
      "2. **Coursera**: Coursera partners with top universities to offer Python courses, such as \"Python for Everybody\" from the University of Michigan.\n",
      "3. **edX**: edX offers a variety of Python courses, including \"Python for Data Science\" from Harvard University.\n",
      "4. **Udemy**: Udemy has a vast collection of Python courses, ranging from beginner to advanced levels.\n",
      "5. **Pluralsight**: Pluralsight offers a wide range of Python courses and tutorials.\n",
      "\n",
      "**Practice Platforms**\n",
      "\n",
      "1. **LeetCode**: LeetCode provides a large collection of coding challenges in Python, including algorithms and data structures problems.\n",
      "2. **HackerRank**: HackerRank offers coding challenges and projects in Python, focusing on skills like coding interviews and problem-solving.\n",
      "3. **Project Euler**: Project Euler provides a series of mathematical and computational programming challenges to practice your Python skills.\n",
      "4. **Python Fiddle**: Python Fiddle allows you to write and execute Python code in the browser.\n",
      "5. **Repl.it**: Repl.it is an online coding platform that supports Python, with features like real-time collaboration and debugging.\n",
      "\n",
      "**Tutorials and Guides**\n",
      "\n",
      "1. **W3Schools**: W3Schools offers a comprehensive Python tutorial with examples, exercises, and reference materials.\n",
      "2. **Real Python**: Real Python provides in-depth tutorials on various aspects of Python, including web development and data science.\n",
      "3. **Python.org**: The official Python website has an extensive section for beginners, covering topics like installation, basic syntax, and libraries.\n",
      "\n",
      "**Communities**\n",
      "\n",
      "1. **Reddit's r/learnpython**: A community for learning and discussing Python, with resources, tutorials, and support from experienced programmers.\n",
      "2. **Stack Overflow**: Stack Overflow is a Q&A platform where you can ask and answer Python-related questions.\n",
      "3. **Python Subreddit**: The official Python subreddit has a wealth of knowledge, including tutorials, resources, and community discussions.\n",
      "\n",
      "**Other Resources**\n",
      "\n",
      "1. **Python Books**: There are many excellent books on Python, covering topics like beginners' guides, advanced topics, and specific domains like web development or data science.\n",
      "2. **YouTube Channels**: YouTube channels like Corey Schafer's Python Tutorials, Traversy Media (Brad Traversy), and sentdex offer comprehensive Python tutorials and explanations.\n",
      "\n",
      "These platforms can help you learn and practice Python effectively, whether you're a beginner or an experienced programmer.\n"
     ]
    }
   ],
   "source": [
    "response=ollama.chat(model=MODEL_LLAMA,messages=messages)\n",
    "\n",
    "print(response['message']['content'])\n",
    "\n"
   ]
  }
 ],
 "metadata": {
  "kernelspec": {
   "display_name": "env",
   "language": "python",
   "name": "python3"
  },
  "language_info": {
   "codemirror_mode": {
    "name": "ipython",
    "version": 3
   },
   "file_extension": ".py",
   "mimetype": "text/x-python",
   "name": "python",
   "nbconvert_exporter": "python",
   "pygments_lexer": "ipython3",
   "version": "3.10.11"
  }
 },
 "nbformat": 4,
 "nbformat_minor": 2
}
