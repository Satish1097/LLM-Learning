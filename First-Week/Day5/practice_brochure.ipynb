{
 "cells": [
  {
   "cell_type": "markdown",
   "metadata": {},
   "source": [
    "Generate Brochure"
   ]
  },
  {
   "cell_type": "code",
   "execution_count": 41,
   "metadata": {},
   "outputs": [],
   "source": [
    "import os\n",
    "import requests\n",
    "import json\n",
    "from typing import List\n",
    "from dotenv import load_dotenv\n",
    "from bs4 import BeautifulSoup\n",
    "from IPython.display import Markdown, display, update_display\n",
    "from openai import OpenAI\n"
   ]
  },
  {
   "cell_type": "code",
   "execution_count": 44,
   "metadata": {},
   "outputs": [],
   "source": [
    "load_dotenv(override=True)\n",
    "api_key=os.getenv(\"OPENAI_API_KEY\")\n",
    "MODEL='gpt-4o-mini'\n",
    "openai=OpenAI()"
   ]
  },
  {
   "cell_type": "code",
   "execution_count": null,
   "metadata": {},
   "outputs": [],
   "source": [
    "#Class that scrap the link from webpages\n",
    "# Some websites need you to use proper headers when fetching them:\n",
    "\n",
    "headers={\n",
    " \"User-Agent\": \"Mozilla/5.0 (Windows NT 10.0; Win64; x64) AppleWebKit/537.36 (KHTML, like Gecko) Chrome/117.0.0.0 Safari/537.36\"\n",
    "}\n",
    "\n",
    "class Website:\n",
    "\n",
    "    def __init__(self,url):\n",
    "        self.url=url\n",
    "        response=requests.get(url,headers=headers)\n",
    "        self.body=response.content\n",
    "        soup=BeautifulSoup(self.body, 'html.parser')\n",
    "        self.title=soup.title.string if soup.title else \"No title found\"\n",
    "\n",
    "        if soup.body:\n",
    "            for irrelevant in soup.body([\"script\", \"style\", \"img\", \"input\"]):\n",
    "                irrelevant.decompose()\n",
    "\n",
    "            self.text=soup.body.get_text(separator=\"\\n\",strip=True)\n",
    "        else:\n",
    "            self.text = \"\"\n",
    "\n",
    "        links=[link.get(\"href\") for link in soup.find_all('a')]\n",
    "        self.links=[link for link in links if link]\n",
    "    \n",
    "    def get_content(self):\n",
    "        return f\"Webpage Title: \\n{self.title}\\nWebpage Contents:\\n{self.text}\\n\\n\"\n",
    "    \n"
   ]
  },
  {
   "cell_type": "code",
   "execution_count": 80,
   "metadata": {},
   "outputs": [],
   "source": [
    "link_system_prompt = \"You are provided with a list of links found on a webpage. \\\n",
    "You are able to decide which of the links would be most relevant to include in a brochure about the company, \\\n",
    "such as links to an About page, or a Company page, or Careers/Jobs pages.\\n\"\n",
    "link_system_prompt += \"You should respond in JSON as in this example:\"\n",
    "link_system_prompt += \"\"\"\n",
    "{\n",
    "    \"links\": [\n",
    "        {\"type\": \"about page\", \"url\": \"https://full.url/goes/here/about\"},\n",
    "        {\"type\": \"careers page\": \"url\": \"https://another.full.url/careers\"}\n",
    "    ]\n",
    "}\n",
    "\"\"\""
   ]
  },
  {
   "cell_type": "markdown",
   "metadata": {},
   "source": [
    "OpenAI to create brochure for Time of India"
   ]
  },
  {
   "cell_type": "code",
   "execution_count": 81,
   "metadata": {},
   "outputs": [],
   "source": [
    "def get_links_user_prompt(website):\n",
    "    user_prompt = f\"Here is the list of links on the website of {website.url} - \"\n",
    "    user_prompt += \"please decide which of these are relevant web links for a brochure about the company, respond with the full https URL in JSON format. \\\n",
    "Do not include Terms of Service, Privacy, email links.\\n\"\n",
    "    user_prompt += \"Links (some might be relative links):\\n\"\n",
    "    user_prompt += \"\\n\".join(website.links)\n",
    "    return user_prompt"
   ]
  },
  {
   "cell_type": "code",
   "execution_count": 82,
   "metadata": {},
   "outputs": [],
   "source": [
    "def get_links(url):\n",
    "    website=Website(url)\n",
    "    response=openai.chat.completions.create(model=MODEL,messages=[\n",
    "        {\"role\":\"system\",\"content\": link_system_prompt},\n",
    "        {\"role\":\"user\",\"content\":get_links_user_prompt(website)}\n",
    "    ],\n",
    "    response_format={\"type\":\"json_object\"}\n",
    "    )\n",
    "    result=response.choices[0].message.content\n",
    "    return json.loads(result)"
   ]
  },
  {
   "cell_type": "code",
   "execution_count": 83,
   "metadata": {},
   "outputs": [],
   "source": [
    "def get_all_details(url):\n",
    "    result=\"landing page:\\n\"\n",
    "    result+= Website(url).get_content()\n",
    "    links=get_links(url)\n",
    "    print(\"Found links:\" ,links)\n",
    "    for link in links[\"links\"]:\n",
    "        result += f\"\\n\\n{link['type']}\\n\"\n",
    "        result+=Website(link[\"url\"]).get_content()\n",
    "    return result"
   ]
  },
  {
   "cell_type": "code",
   "execution_count": 88,
   "metadata": {},
   "outputs": [],
   "source": [
    "# system_prompt = \"You are an assistant that analyzes the contents of several relevant pages from a company website \\\n",
    "# and creates a short brochure about the company for prospective customers, investors and recruits. Respond in markdown.\\\n",
    "# Include details of company culture, customers and careers/jobs if you have the information. instead of making it in English create it in Hindi language\"\n",
    "\n",
    "# Or uncomment the lines below for a more humorous brochure - this demonstrates how easy it is to incorporate 'tone':\n",
    "\n",
    "system_prompt = \"You are an assistant that analyzes the contents of several relevant pages from a company website \\\n",
    "and creates a short humorous, entertaining, jokey brochure about the company for prospective customers, investors and recruits. Respond in markdown.\\\n",
    "Include details of company culture, customers and careers/jobs if you have the information. instead of making it in English create it in Hindi language.\"\n"
   ]
  },
  {
   "cell_type": "code",
   "execution_count": 89,
   "metadata": {},
   "outputs": [],
   "source": [
    "def get_brochure_user_prompt(company_name, url):\n",
    "    user_prompt = f\"You're looking at a news publishing company called: {company_name}\\n\"\n",
    "\n",
    "    user_prompt+=f\"Here are the content of its landing page and other relevant pages; use this information to build a short brochure of the company in markdown.\\n\"\n",
    "\n",
    "    user_prompt+= get_all_details(url)\n",
    "\n",
    "    user_prompt= user_prompt[:5_0000] # truncate if more than 5000 character\n",
    "\n",
    "    return user_prompt"
   ]
  },
  {
   "cell_type": "code",
   "execution_count": 90,
   "metadata": {},
   "outputs": [],
   "source": [
    "def create_brochure(company_name, url):\n",
    "    response=openai.chat.completions.create(\n",
    "        model=MODEL,\n",
    "        messages=[\n",
    "            {\"role\":\"system\",\"content\":system_prompt},\n",
    "            {\"role\":\"user\",\"content\":get_brochure_user_prompt(company_name,url)}\n",
    "        ]\n",
    "    )\n",
    "    result=response.choices[0].message.content\n",
    "    display(Markdown(result))"
   ]
  },
  {
   "cell_type": "code",
   "execution_count": 91,
   "metadata": {},
   "outputs": [
    {
     "name": "stdout",
     "output_type": "stream",
     "text": [
      "Found links: {'links': [{'type': 'homepage', 'url': 'https://timesofindia.indiatimes.com/'}, {'type': 'about page', 'url': 'https://www.timesinternet.in'}, {'type': 'careers page', 'url': 'https://timesinternet.in/careers'}]}\n"
     ]
    },
    {
     "data": {
      "text/markdown": [
       "```markdown\n",
       "# टाइम्स ऑफ इंडिया - मीडिया का मसाला!\n",
       "\n",
       "### क्या है टाइम्स ऑफ़ इंडिया?\n",
       "टाइम्स ऑफ इंडिया, यानि TOI, हमें डेटा और हेडलाइन्स का ऐसा कॉम्बो देता है, जैसे चाय में दो चम्मच चीनी! यहाँ आपको मिलते हैं सबसे ताज़ा ख़बरें, खेल, बिज़नेस की स्टोरीज, और बॉलीवुड की गपशप।\n",
       "\n",
       "### हमारी संस्कृति - \"काम करो, मस्त रहो\"\n",
       "हमारी ऑफिस में काम करने की संस्कृति बस यही है: \"परफॉर्म करो, मस्ती करो!\" साप्ताहिक रिपोर्टिंग मीटिंग्स में ठीक तरह से कुछ 'क्रिकेट' की गपशप जरूरी समझी जाती है। एक साथ मिलकर हंसी-मजाक करने का मजा हम कभी नहीं छोड़ते।\n",
       "\n",
       "### हमारे ग्राहक - आप सब\n",
       "हमारे ग्राहक? बस सभी! हर उम्र और किस्म के लोग - अधिकारियों से लेकर कॉलेज के छात्रों तक, टाइम्स ऑफ इंडिया में सबको कुछ ना कुछ मिल जाता है। \n",
       "\n",
       "### करियर का मौका - चलो, साथ में बनाते हैं स्टोरीज!\n",
       "क्या आप रिपोर्टर बनना चाहते हैं, या फिर खेल संवाददाता? हमारे पास जॉब्स हैं जो आपकी प्रतिभा को चमकाने के लिए बिलकुल सही हैं। यहाँ हर दिन नए मौके हैं, और हम आपको खुद को साबित करने का मौका देते हैं। \n",
       "\n",
       "### तो क्यों ना जुड़ें!\n",
       "क्या आप कुछ नया और मस्त करना चाहते हैं? तब पर आज ही टाइम्स ऑफ इंडिया की टीम में शामिल हों। यहाँ मौका है न केवल अच्छी ख़बरें लिखने का, बल्कि एक मजेदार टीम का हिस्सा बनने का भी।\n",
       "\n",
       "### अंत में, हम हैं \"टाइम्स ऑफ इंडिया\" - एक मजेदार मीडिया सफर का हिस्सा बनिए!\n",
       "जब भी कुछ बड़ा हो – आपको पता लगाने के लिए हमें फॉलो करें। हम रहते हैं हर सिटि में, इंग्लिश में नहीं, आपके अपनी ज़ुबान में भी!\n",
       "\n",
       "**तुम्हारा आज का समय, तुम्हारी खुशियों का साया। क्या आप तैयार हैं?**\n",
       "```\n"
      ],
      "text/plain": [
       "<IPython.core.display.Markdown object>"
      ]
     },
     "metadata": {},
     "output_type": "display_data"
    }
   ],
   "source": [
    "create_brochure(\"Times of India\",\"https://timesofindia.indiatimes.com/\")"
   ]
  }
 ],
 "metadata": {
  "kernelspec": {
   "display_name": "env",
   "language": "python",
   "name": "python3"
  },
  "language_info": {
   "codemirror_mode": {
    "name": "ipython",
    "version": 3
   },
   "file_extension": ".py",
   "mimetype": "text/x-python",
   "name": "python",
   "nbconvert_exporter": "python",
   "pygments_lexer": "ipython3",
   "version": "3.10.11"
  }
 },
 "nbformat": 4,
 "nbformat_minor": 2
}
