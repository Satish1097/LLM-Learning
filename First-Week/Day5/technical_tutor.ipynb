{
 "cells": [
  {
   "cell_type": "markdown",
   "metadata": {},
   "source": [
    "A Technical tutor that uses GPT-4o-mini and ollama to answer your questions"
   ]
  },
  {
   "cell_type": "code",
   "execution_count": 24,
   "metadata": {},
   "outputs": [],
   "source": [
    "import os\n",
    "from openai import OpenAI\n",
    "from dotenv import load_dotenv\n",
    "import ollama\n"
   ]
  },
  {
   "cell_type": "code",
   "execution_count": 25,
   "metadata": {},
   "outputs": [],
   "source": [
    "load_dotenv(override=True)\n",
    "api_key=os.getenv(\"OPENAI_API_KEY\")\n",
    "MODEL='gpt-4o-mini'\n",
    "openai=OpenAI()\n"
   ]
  },
  {
   "cell_type": "code",
   "execution_count": 26,
   "metadata": {},
   "outputs": [],
   "source": [
    "def ask_gpt4(question):\n",
    "    response = openai.chat.completions.create(\n",
    "        model=MODEL,\n",
    "        messages=[{\"role\": \"user\", \"content\": question}], stream=True\n",
    "    )\n",
    "    for chunk in response:\n",
    "        if chunk.choices and chunk.choices[0].delta.content:\n",
    "            yield chunk.choices[0].delta.content\n",
    "\n",
    "\n",
    "def ask_ollama(question):\n",
    "    response = ollama.chat(model=\"llama3.2\", messages=[{\"role\": \"user\", \"content\": question}], stream=True)\n",
    "\n",
    "    for chunk in response:\n",
    "        if \"message\" in chunk and \"content\" in chunk[\"message\"]:\n",
    "            yield chunk[\"message\"][\"content\"] \n"
   ]
  },
  {
   "cell_type": "code",
   "execution_count": 27,
   "metadata": {},
   "outputs": [
    {
     "data": {
      "application/vnd.jupyter.widget-view+json": {
       "model_id": "080de1ed4b504359a40d4ffd45163a33",
       "version_major": 2,
       "version_minor": 0
      },
      "text/plain": [
       "Dropdown(description='Model:', options=('GPT-4o-mini', 'Ollama'), value='GPT-4o-mini')"
      ]
     },
     "metadata": {},
     "output_type": "display_data"
    },
    {
     "data": {
      "application/vnd.jupyter.widget-view+json": {
       "model_id": "5f83763cf20f414caf445d5754453756",
       "version_major": 2,
       "version_minor": 0
      },
      "text/plain": [
       "Text(value='', placeholder='Type your programming question...')"
      ]
     },
     "metadata": {},
     "output_type": "display_data"
    },
    {
     "data": {
      "application/vnd.jupyter.widget-view+json": {
       "model_id": "c096f976e30c44d7b6392405ea81dd76",
       "version_major": 2,
       "version_minor": 0
      },
      "text/plain": [
       "Button(description='Ask', style=ButtonStyle())"
      ]
     },
     "metadata": {},
     "output_type": "display_data"
    },
    {
     "data": {
      "application/vnd.jupyter.widget-view+json": {
       "model_id": "b953b70a37264c32b3725959be9a639f",
       "version_major": 2,
       "version_minor": 0
      },
      "text/plain": [
       "Output()"
      ]
     },
     "metadata": {},
     "output_type": "display_data"
    }
   ],
   "source": [
    "import ipywidgets as widgets\n",
    "from IPython.display import display\n",
    "\n",
    "\n",
    "# Dropdown to select model\n",
    "model_selector = widgets.Dropdown(\n",
    "    options=[\"GPT-4o-mini\", \"Ollama\"],\n",
    "    value=\"GPT-4o-mini\",\n",
    "    description=\"Model:\"\n",
    ")\n",
    "\n",
    "# Text input for user questions\n",
    "question_input = widgets.Text(\n",
    "    placeholder=\"Type your programming question...\"\n",
    ")\n",
    "\n",
    "# Button to submit\n",
    "submit_button = widgets.Button(description=\"Ask\")\n",
    "\n",
    "# Output widget\n",
    "output = widgets.Output()\n",
    "\n",
    "def on_submit(b):\n",
    "    with output:\n",
    "        output.clear_output()\n",
    "        question = question_input.value\n",
    "        model = model_selector.value\n",
    "\n",
    "        if model == \"GPT-4o-mini\":\n",
    "            generator = ask_gpt4(question)\n",
    "        else:\n",
    "            generator = ask_ollama(question)\n",
    "\n",
    "        response_text = \"\"\n",
    "        for chunk in generator:\n",
    "            response_text += chunk\n",
    "            output.clear_output(wait=True)  # Update dynamically\n",
    "            print(response_text, end=\"\", flush=True)\n",
    "\n",
    "# Attach event to button\n",
    "submit_button.on_click(on_submit)\n",
    "\n",
    "# Display widgets\n",
    "display(model_selector, question_input, submit_button, output)"
   ]
  }
 ],
 "metadata": {
  "kernelspec": {
   "display_name": "env",
   "language": "python",
   "name": "python3"
  },
  "language_info": {
   "codemirror_mode": {
    "name": "ipython",
    "version": 3
   },
   "file_extension": ".py",
   "mimetype": "text/x-python",
   "name": "python",
   "nbconvert_exporter": "python",
   "pygments_lexer": "ipython3",
   "version": "3.10.11"
  }
 },
 "nbformat": 4,
 "nbformat_minor": 2
}
